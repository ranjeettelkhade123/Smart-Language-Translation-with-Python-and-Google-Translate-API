{
 "cells": [
  {
   "cell_type": "code",
   "execution_count": 1,
   "id": "0d7ce96c-0212-4ecd-96a2-e0d6f17eda86",
   "metadata": {},
   "outputs": [],
   "source": [
    "#Tkinter is the standard gui library in python it provides fast and easy way to provide gui applications\n",
    "from tkinter import *"
   ]
  },
  {
   "cell_type": "code",
   "execution_count": 2,
   "id": "9458a61f-01fd-41ab-8853-653e7c9e0e15",
   "metadata": {},
   "outputs": [],
   "source": [
    "#ttk used to style like css in html\n",
    "from tkinter import ttk"
   ]
  },
  {
   "cell_type": "code",
   "execution_count": 3,
   "id": "40729848-9e4a-4766-a650-b74e9aa52316",
   "metadata": {},
   "outputs": [
    {
     "name": "stdout",
     "output_type": "stream",
     "text": [
      "Defaulting to user installation because normal site-packages is not writeable\n",
      "Requirement already satisfied: googletrans==4.0.0-rc1 in c:\\users\\prathmesh07\\appdata\\roaming\\python\\python312\\site-packages (4.0.0rc1)\n",
      "Requirement already satisfied: httpx==0.13.3 in c:\\users\\prathmesh07\\appdata\\roaming\\python\\python312\\site-packages (from googletrans==4.0.0-rc1) (0.13.3)\n",
      "Requirement already satisfied: certifi in c:\\users\\prathmesh07\\appdata\\roaming\\python\\python312\\site-packages (from httpx==0.13.3->googletrans==4.0.0-rc1) (2024.7.4)\n",
      "Requirement already satisfied: hstspreload in c:\\users\\prathmesh07\\appdata\\roaming\\python\\python312\\site-packages (from httpx==0.13.3->googletrans==4.0.0-rc1) (2025.1.1)\n",
      "Requirement already satisfied: sniffio in c:\\users\\prathmesh07\\appdata\\roaming\\python\\python312\\site-packages (from httpx==0.13.3->googletrans==4.0.0-rc1) (1.3.1)\n",
      "Requirement already satisfied: chardet==3.* in c:\\users\\prathmesh07\\appdata\\roaming\\python\\python312\\site-packages (from httpx==0.13.3->googletrans==4.0.0-rc1) (3.0.4)\n",
      "Requirement already satisfied: idna==2.* in c:\\users\\prathmesh07\\appdata\\roaming\\python\\python312\\site-packages (from httpx==0.13.3->googletrans==4.0.0-rc1) (2.10)\n",
      "Requirement already satisfied: rfc3986<2,>=1.3 in c:\\users\\prathmesh07\\appdata\\roaming\\python\\python312\\site-packages (from httpx==0.13.3->googletrans==4.0.0-rc1) (1.5.0)\n",
      "Requirement already satisfied: httpcore==0.9.* in c:\\users\\prathmesh07\\appdata\\roaming\\python\\python312\\site-packages (from httpx==0.13.3->googletrans==4.0.0-rc1) (0.9.1)\n",
      "Requirement already satisfied: h11<0.10,>=0.8 in c:\\users\\prathmesh07\\appdata\\roaming\\python\\python312\\site-packages (from httpcore==0.9.*->httpx==0.13.3->googletrans==4.0.0-rc1) (0.9.0)\n",
      "Requirement already satisfied: h2==3.* in c:\\users\\prathmesh07\\appdata\\roaming\\python\\python312\\site-packages (from httpcore==0.9.*->httpx==0.13.3->googletrans==4.0.0-rc1) (3.2.0)\n",
      "Requirement already satisfied: hyperframe<6,>=5.2.0 in c:\\users\\prathmesh07\\appdata\\roaming\\python\\python312\\site-packages (from h2==3.*->httpcore==0.9.*->httpx==0.13.3->googletrans==4.0.0-rc1) (5.2.0)\n",
      "Requirement already satisfied: hpack<4,>=3.0 in c:\\users\\prathmesh07\\appdata\\roaming\\python\\python312\\site-packages (from h2==3.*->httpcore==0.9.*->httpx==0.13.3->googletrans==4.0.0-rc1) (3.0.0)\n"
     ]
    }
   ],
   "source": [
    "!pip install googletrans==4.0.0-rc1"
   ]
  },
  {
   "cell_type": "code",
   "execution_count": 4,
   "id": "80313230-541a-4605-8483-cbe8d2e7ec77",
   "metadata": {},
   "outputs": [],
   "source": [
    "from googletrans import Translator, LANGUAGES"
   ]
  },
  {
   "cell_type": "code",
   "execution_count": 5,
   "id": "2d1ee29f-6860-4081-9ea1-30ac0a1c41af",
   "metadata": {},
   "outputs": [],
   "source": [
    "root = Tk()\n",
    "root.geometry(\"1100x320\")\n",
    "root.resizable(0,0)\n",
    "\n",
    "root['bg']='skyblue'\n",
    "\n",
    "root.title('Language translator')\n",
    "Label(root,text = \"Language Translator\", font =\"Arial 20 bold\").pack()\n",
    "\n"
   ]
  },
  {
   "cell_type": "code",
   "execution_count": 6,
   "id": "29d23dba-9d02-4d26-b7df-9dbfbd3b765b",
   "metadata": {},
   "outputs": [],
   "source": [
    "Label(root,text =\"Enter Text\", font = 'arial 13 bold', bg = 'white smoke').place(x=165,y=90)\n"
   ]
  },
  {
   "cell_type": "code",
   "execution_count": 7,
   "id": "7232563b-6094-4802-8e18-5fd391cc7059",
   "metadata": {},
   "outputs": [
    {
     "data": {
      "text/plain": [
       "''"
      ]
     },
     "execution_count": 7,
     "metadata": {},
     "output_type": "execute_result"
    }
   ],
   "source": [
    "Input_text = Entry(root,width=60)\n",
    "Input_text.place(x=30,y=130)\n",
    "Input_text.get()\n"
   ]
  },
  {
   "cell_type": "code",
   "execution_count": 8,
   "id": "220b8a24-9bf2-4ceb-b220-ace8a6ef7f42",
   "metadata": {},
   "outputs": [],
   "source": [
    "Label(root,text =\"Output\", font = 'arial 13 bold', bg='white smoke').place(x=700, y=90)\n",
    "output_text = Text(root, font='arial 10',height = 5,wrap=WORD, padx=5,pady=5, width=50)\n",
    "output_text.place(x=600, y=120)\n"
   ]
  },
  {
   "cell_type": "code",
   "execution_count": 9,
   "id": "cd5e0298-a93d-40c3-ae96-f31755cdcfb1",
   "metadata": {},
   "outputs": [],
   "source": [
    "language = list(LANGUAGES.values())\n",
    "dest_lang = ttk.Combobox(root,values= language, width= 22)\n",
    "dest_lang.place(x=130, y=170)\n",
    "dest_lang.set('choose language')\n"
   ]
  },
  {
   "cell_type": "code",
   "execution_count": 10,
   "id": "3b666622-2d24-487c-be1b-c6f475656da8",
   "metadata": {},
   "outputs": [],
   "source": [
    "def Translate():\n",
    "    translator = Translator()\n",
    "    translated = translator.translate(text=Input_text.get(), dest=dest_lang.get())\n",
    "    output_text.delete(1.0,END)\n",
    "    output_text.insert(END, translated.text)\n",
    "\n",
    "trans_btn= Button(root, text='Translate', font='arial 12 bold', pady=5, command=Translate, bg='orange',activebackground='green')\n",
    "trans_btn.place(x=445, y=160)\n",
    "root.mainloop()"
   ]
  },
  {
   "cell_type": "code",
   "execution_count": null,
   "id": "e724b296-d347-4009-9787-5bd3eff7c9fd",
   "metadata": {},
   "outputs": [],
   "source": []
  }
 ],
 "metadata": {
  "kernelspec": {
   "display_name": "Python 3 (ipykernel)",
   "language": "python",
   "name": "python3"
  },
  "language_info": {
   "codemirror_mode": {
    "name": "ipython",
    "version": 3
   },
   "file_extension": ".py",
   "mimetype": "text/x-python",
   "name": "python",
   "nbconvert_exporter": "python",
   "pygments_lexer": "ipython3",
   "version": "3.12.4"
  }
 },
 "nbformat": 4,
 "nbformat_minor": 5
}
